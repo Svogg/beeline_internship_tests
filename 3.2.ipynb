{
 "cells": [
  {
   "cell_type": "markdown",
   "metadata": {},
   "source": [
    "## Импортируем необходимые библиотеки"
   ]
  },
  {
   "cell_type": "code",
   "execution_count": 667,
   "metadata": {},
   "outputs": [],
   "source": [
    "import pandas as pd\n",
    "import csv"
   ]
  },
  {
   "cell_type": "markdown",
   "metadata": {},
   "source": [
    "## Создаем датафрейм покупателей"
   ]
  },
  {
   "cell_type": "code",
   "execution_count": 668,
   "metadata": {},
   "outputs": [],
   "source": [
    "def customercsv_to_df(path):\n",
    "    with open(f'{path}', 'r') as customer:\n",
    "        customer_lst = []\n",
    "        \n",
    "        for el in customer:\n",
    "            customer_lst.append(el.split('\\t'))\n",
    "    \n",
    "        customer_df = [dict(id=el[0],\n",
    "                            name=el[1],\n",
    "                            email=el[2],\n",
    "                            joinDate=el[3],\n",
    "                            status=el[4].strip('\\n')) for el in customer_lst]\n",
    "        \n",
    "        return customer_df"
   ]
  },
  {
   "cell_type": "markdown",
   "metadata": {},
   "source": [
    "## Создаем датафрейм товаров"
   ]
  },
  {
   "cell_type": "code",
   "execution_count": 669,
   "metadata": {},
   "outputs": [],
   "source": [
    "def productcsv_to_df(path):\n",
    "    with open(f'{path}', 'r') as product:\n",
    "        product_lst = []\n",
    "        \n",
    "        for el in product:\n",
    "            product_lst.append(el.split('\\t'))\n",
    "    \n",
    "        product_df = [dict(id=el[0],\n",
    "                           name=el[1],\n",
    "                           price=el[2],\n",
    "                           numberOfProducts=el[3].strip('\\n')) for el in product_lst]\n",
    "        \n",
    "        return product_df"
   ]
  },
  {
   "cell_type": "markdown",
   "metadata": {},
   "source": [
    "## Создаем датафрейм заказов"
   ]
  },
  {
   "cell_type": "code",
   "execution_count": 670,
   "metadata": {},
   "outputs": [],
   "source": [
    "def ordercsv_to_df(path):\n",
    "    with open(f'{path}', 'r') as order:\n",
    "        order_lst = []\n",
    "        \n",
    "        for el in order:\n",
    "            order_lst.append(el.split('\\t'))\n",
    "    \n",
    "        order_df = [dict(customerID=int(el[0]),\n",
    "                           orderID=int(el[1]),\n",
    "                           productID=int(el[2]),\n",
    "                           numberOfProduct=int(el[3]),\n",
    "                           orderDate=el[4],\n",
    "                           status=el[5].strip('\\n')) for el in order_lst]\n",
    "        \n",
    "        return order_df"
   ]
  },
  {
   "cell_type": "markdown",
   "metadata": {},
   "source": [
    "## Создаем функцию записи словаря в csv"
   ]
  },
  {
   "cell_type": "code",
   "execution_count": 671,
   "metadata": {},
   "outputs": [],
   "source": [
    "def dict_to_csv(dict):\n",
    "    with open('statistic.csv', 'w', newline='') as statisic:\n",
    "        field_names = ['customer.name', 'product.name']\n",
    "        writer = csv.DictWriter(statisic, fieldnames=field_names)\n",
    "        writer.writeheader()\n",
    "        for k, v in dict.items():\n",
    "            writer.writerow({field_names[0]: k, field_names[1]: v})"
   ]
  },
  {
   "cell_type": "markdown",
   "metadata": {},
   "source": [
    "## Создаем главную функцию\n"
   ]
  },
  {
   "cell_type": "code",
   "execution_count": 672,
   "metadata": {},
   "outputs": [],
   "source": [
    "def main():\n",
    "    \n",
    "    path = ['Beeline_practise/customer.csv',\n",
    "            'Beeline_practise/product.csv',\n",
    "            'Beeline_practise/order.csv']\n",
    "    \n",
    "    customer_df = pd.DataFrame(customercsv_to_df(path[0]))\n",
    "    product_df = pd.DataFrame(productcsv_to_df(path[1]))\n",
    "    order_df = pd.DataFrame(ordercsv_to_df(path[2]))\n",
    "    \n",
    "    order_df = order_df.loc[order_df['customerID'] < 10]                                        #чистим данные\n",
    "    order_df.insert(0, 'id_operation', [el for el in range(1, len(order_df) + 1)], False)\n",
    "                                                                                                  \n",
    "    result_dict = {i: [0, 0, 0, 0, 0, 0, 0, 0, 0, 0] for i in range(len(customer_df['name']))}  #Создаем словарь, ключи которого- id клиента, значения - списки возможных товаров\n",
    "    \n",
    "    for i, c, v in zip(order_df['id_operation'], order_df['customerID'], order_df['productID']):#заполняем списки возможных товаров\n",
    "        if i == 45:\n",
    "            continue\n",
    "        result_dict[c-1][v-1] += order_df['numberOfProduct'][i]\n",
    "    \n",
    "    for k, v in result_dict.items():#меняем списки товаров на id популярного товара из списка\n",
    "        max_vl = max(result_dict[k])\n",
    "        if max_vl == 0:\n",
    "            result_dict[k] = 'Популярный продукт отсутствует'\n",
    "            continue\n",
    "        result_dict[k] = result_dict[k].index(max_vl)\n",
    "    \n",
    "    for k, v in result_dict.items():#меняем id популярного товара на его название\n",
    "        if result_dict[k] in product_df['id']:\n",
    "            result_dict[k] = product_df['name'][k]\n",
    "        \n",
    "    for key in list(result_dict):#меняем ключи словаря на имена покупателей\n",
    "        if key in customer_df['id']:\n",
    "            result_dict[customer_df['name'][key]] = result_dict.pop(key)\n",
    "    \n",
    "    dict_to_csv(result_dict)#записываем словарь в csv файл"
   ]
  },
  {
   "cell_type": "code",
   "execution_count": 673,
   "metadata": {},
   "outputs": [],
   "source": [
    "if __name__ == '__main__':\n",
    "    main()"
   ]
  }
 ],
 "metadata": {
  "kernelspec": {
   "display_name": "Python 3 (ipykernel)",
   "language": "python",
   "name": "python3"
  },
  "language_info": {
   "codemirror_mode": {
    "name": "ipython",
    "version": 3
   },
   "file_extension": ".py",
   "mimetype": "text/x-python",
   "name": "python",
   "nbconvert_exporter": "python",
   "pygments_lexer": "ipython3",
   "version": "3.9.7"
  }
 },
 "nbformat": 4,
 "nbformat_minor": 1
}