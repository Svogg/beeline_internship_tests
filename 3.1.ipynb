{
 "cells": [
  {
   "cell_type": "markdown",
   "metadata": {},
   "source": [
    "## Импортируем необходимые библиотеки"
   ]
  },
  {
   "cell_type": "code",
   "execution_count": 47,
   "metadata": {},
   "outputs": [],
   "source": [
    "import json\n",
    "import pandas as pd"
   ]
  },
  {
   "cell_type": "markdown",
   "metadata": {},
   "source": [
    "## Создаем словарь фильмов из файла u.item"
   ]
  },
  {
   "cell_type": "code",
   "execution_count": 48,
   "metadata": {
    "pycharm": {
     "name": "#%%\n"
    }
   },
   "outputs": [],
   "source": [
    "def film_file_to_dict(path):\n",
    "    \n",
    "    films_lst = []\n",
    "\n",
    "    with open(f'{path}', 'r') as file:\n",
    "        for el in file:\n",
    "            films_lst.append(el.split('|'))\n",
    "\n",
    "    films_lst = [el[:2] for el in films_lst]\n",
    "    film_dict = {i: f for i, f in films_lst}\n",
    "\n",
    "    return film_dict"
   ]
  },
  {
   "cell_type": "markdown",
   "metadata": {},
   "source": [
    "## Создаем словарь рейтингов из файла u.data"
   ]
  },
  {
   "cell_type": "code",
   "execution_count": 49,
   "metadata": {
    "pycharm": {
     "name": "#%%\n"
    }
   },
   "outputs": [],
   "source": [
    "def rating_file_to_lst(path):\n",
    "    \n",
    "    rating_lst = []\n",
    "\n",
    "    with open(f'{path}', 'r') as file:\n",
    "        for el in file:\n",
    "            rating_lst.append(el.split('\\t'))\n",
    "\n",
    "    rating_lst = [el[1:3] for el in rating_lst]\n",
    "    \n",
    "    return rating_lst"
   ]
  },
  {
   "cell_type": "markdown",
   "metadata": {},
   "source": [
    "## Создаем главную функцию"
   ]
  },
  {
   "cell_type": "code",
   "execution_count": 50,
   "metadata": {
    "pycharm": {
     "name": "#%%\n"
    }
   },
   "outputs": [],
   "source": [
    "def main():\n",
    "    \n",
    "    paths = ('Beeline_practise/data/ml-100k/u.item', 'Beeline_practise/data/ml-100k/u.data')\n",
    "\n",
    "    film_dict, rating_lst = film_file_to_dict(paths[0]), rating_file_to_lst(paths[1])\n",
    "    \n",
    "    result_dict = {film: [0, 0, 0, 0, 0] for film in film_dict.values()}#Создаем словарь, ключами котогорого являются названия фильмов, значениями словаря являются пустые списки с рейтингом\n",
    "    \n",
    "    film_rating_lst = []#создание списка фильмы_рейтинги\n",
    "    for el in rating_lst:\n",
    "        if el[0] in film_dict.keys():\n",
    "            film_rating_lst.append((film_dict[el[0]], el[1]))\n",
    "            \n",
    "    hist = [0, 0, 0, 0, 0]  \n",
    "    \n",
    "    for f, rl in result_dict.items():#заполнение рейтинговых списков\n",
    "        for el in film_rating_lst:\n",
    "            if f == el[0] and el[1] == '1':\n",
    "                rl[0] += 1\n",
    "                hist[0] += 1\n",
    "            elif f == el[0] and el[1] == '2':\n",
    "                rl[1] += 1\n",
    "                hist[1] += 1\n",
    "            elif f == el[0] and el[1] == '3':\n",
    "                rl[2] += 1\n",
    "                hist[2] += 1\n",
    "            elif f == el[0] and el[1] == '4':\n",
    "                rl[3] += 1\n",
    "                hist[3] += 1\n",
    "            elif f == el[0] and el[1] == '5':\n",
    "                rl[4] += 1\n",
    "                hist[4] += 1\n",
    "    \n",
    "    \n",
    "    # result_dict.update(dict(hist_all=hist)) Не убирать комментарий, если нужна статистика без максимального значения\n",
    "    \n",
    "    with open(\"test.json\", \"w\") as outfile: # Запись результурующего словаря в json-файл\n",
    "        json.dump(result_dict, outfile)"
   ]
  },
  {
   "cell_type": "code",
   "execution_count": 51,
   "metadata": {
    "pycharm": {
     "is_executing": true
    }
   },
   "outputs": [],
   "source": [
    "if __name__ == '__main__':\n",
    "    main()"
   ]
  },
  {
   "cell_type": "markdown",
   "metadata": {},
   "source": [
    "## Создаем функцию, выводящую агрегированную статистику по рейтингам фильмов"
   ]
  },
  {
   "cell_type": "code",
   "execution_count": 54,
   "metadata": {
    "pycharm": {
     "is_executing": true
    }
   },
   "outputs": [],
   "source": [
    "def statistic_json(file_name):\n",
    "    \n",
    "    df = pd.read_json(file_name)\n",
    "    \n",
    "    df.insert(0, 'Mark', [el for el in range(1, len(df) + 1)], False)\n",
    "    \n",
    "    df = df.set_index('Mark').T #транспонируем датафрейм, для удобного отображения статистики\n",
    "    \n",
    "    return df.describe()"
   ]
  },
  {
   "cell_type": "code",
   "execution_count": 55,
   "metadata": {
    "pycharm": {
     "is_executing": true
    }
   },
   "outputs": [
    {
     "data": {
      "text/html": [
       "<div>\n",
       "<style scoped>\n",
       "    .dataframe tbody tr th:only-of-type {\n",
       "        vertical-align: middle;\n",
       "    }\n",
       "\n",
       "    .dataframe tbody tr th {\n",
       "        vertical-align: top;\n",
       "    }\n",
       "\n",
       "    .dataframe thead th {\n",
       "        text-align: right;\n",
       "    }\n",
       "</style>\n",
       "<table border=\"1\" class=\"dataframe\">\n",
       "  <thead>\n",
       "    <tr style=\"text-align: right;\">\n",
       "      <th>Mark</th>\n",
       "      <th>1</th>\n",
       "      <th>2</th>\n",
       "      <th>3</th>\n",
       "      <th>4</th>\n",
       "      <th>5</th>\n",
       "    </tr>\n",
       "  </thead>\n",
       "  <tbody>\n",
       "    <tr>\n",
       "      <th>count</th>\n",
       "      <td>1664.000000</td>\n",
       "      <td>1664.000000</td>\n",
       "      <td>1664.000000</td>\n",
       "      <td>1664.000000</td>\n",
       "      <td>1664.000000</td>\n",
       "    </tr>\n",
       "    <tr>\n",
       "      <th>mean</th>\n",
       "      <td>3.671875</td>\n",
       "      <td>6.832933</td>\n",
       "      <td>16.313101</td>\n",
       "      <td>20.537260</td>\n",
       "      <td>12.740986</td>\n",
       "    </tr>\n",
       "    <tr>\n",
       "      <th>std</th>\n",
       "      <td>4.881324</td>\n",
       "      <td>8.970572</td>\n",
       "      <td>20.700015</td>\n",
       "      <td>31.335168</td>\n",
       "      <td>26.690734</td>\n",
       "    </tr>\n",
       "    <tr>\n",
       "      <th>min</th>\n",
       "      <td>0.000000</td>\n",
       "      <td>0.000000</td>\n",
       "      <td>0.000000</td>\n",
       "      <td>0.000000</td>\n",
       "      <td>0.000000</td>\n",
       "    </tr>\n",
       "    <tr>\n",
       "      <th>25%</th>\n",
       "      <td>1.000000</td>\n",
       "      <td>1.000000</td>\n",
       "      <td>2.000000</td>\n",
       "      <td>1.000000</td>\n",
       "      <td>0.000000</td>\n",
       "    </tr>\n",
       "    <tr>\n",
       "      <th>50%</th>\n",
       "      <td>2.000000</td>\n",
       "      <td>3.000000</td>\n",
       "      <td>8.000000</td>\n",
       "      <td>6.000000</td>\n",
       "      <td>2.000000</td>\n",
       "    </tr>\n",
       "    <tr>\n",
       "      <th>75%</th>\n",
       "      <td>5.000000</td>\n",
       "      <td>10.000000</td>\n",
       "      <td>23.000000</td>\n",
       "      <td>27.000000</td>\n",
       "      <td>12.000000</td>\n",
       "    </tr>\n",
       "    <tr>\n",
       "      <th>max</th>\n",
       "      <td>47.000000</td>\n",
       "      <td>73.000000</td>\n",
       "      <td>168.000000</td>\n",
       "      <td>212.000000</td>\n",
       "      <td>325.000000</td>\n",
       "    </tr>\n",
       "  </tbody>\n",
       "</table>\n",
       "</div>"
      ],
      "text/plain": [
       "Mark             1            2            3            4            5\n",
       "count  1664.000000  1664.000000  1664.000000  1664.000000  1664.000000\n",
       "mean      3.671875     6.832933    16.313101    20.537260    12.740986\n",
       "std       4.881324     8.970572    20.700015    31.335168    26.690734\n",
       "min       0.000000     0.000000     0.000000     0.000000     0.000000\n",
       "25%       1.000000     1.000000     2.000000     1.000000     0.000000\n",
       "50%       2.000000     3.000000     8.000000     6.000000     2.000000\n",
       "75%       5.000000    10.000000    23.000000    27.000000    12.000000\n",
       "max      47.000000    73.000000   168.000000   212.000000   325.000000"
      ]
     },
     "execution_count": 55,
     "metadata": {},
     "output_type": "execute_result"
    }
   ],
   "source": [
    "statistic_json('test.json')"
   ]
  }
 ],
 "metadata": {
  "kernelspec": {
   "display_name": "Python 3 (ipykernel)",
   "language": "python",
   "name": "python3"
  },
  "language_info": {
   "codemirror_mode": {
    "name": "ipython",
    "version": 3
   },
   "file_extension": ".py",
   "mimetype": "text/x-python",
   "name": "python",
   "nbconvert_exporter": "python",
   "pygments_lexer": "ipython3",
   "version": "3.9.7"
  }
 },
 "nbformat": 4,
 "nbformat_minor": 1
}
