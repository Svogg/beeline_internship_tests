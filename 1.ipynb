{
 "cells": [
  {
   "cell_type": "markdown",
   "source": [
    " ## Вывеcти построчно целые числа от 1 до N не более C чисел в строке"
   ],
   "metadata": {
    "collapsed": false
   }
  },
  {
   "cell_type": "code",
   "execution_count": 3,
   "outputs": [
    {
     "name": "stdout",
     "output_type": "stream",
     "text": [
      "1  2 \n",
      "3  4 \n",
      "5  6 \n",
      "7  8 \n",
      "9  10\n"
     ]
    }
   ],
   "source": [
    "def line_func(N, C):\n",
    "\tfor i in range(1, N + 1):\n",
    "\t\tif i % C == 0:\n",
    "\t\t\tprint(str(i).ljust(2), end='\\n')\n",
    "\t\telse:\n",
    "\t\t\tprint(str(i).ljust(2), end=' ')"
   ],
   "metadata": {
    "collapsed": false,
    "pycharm": {
     "name": "#%%\n"
    }
   }
  },
  {
   "cell_type": "code",
   "execution_count": 4,
   "outputs": [
    {
     "name": "stdout",
     "output_type": "stream",
     "text": [
      "1  2  3  4  5  6  7  8 \n",
      "9  10 11 12 13 14 15 16\n"
     ]
    }
   ],
   "source": [
    "line_func(int(input('Enter N: ')), int(input('Enter C: ')))\n"
   ],
   "metadata": {
    "collapsed": false,
    "pycharm": {
     "name": "#%%\n"
    }
   }
  }
 ],
 "metadata": {
  "kernelspec": {
   "display_name": "Python 3",
   "language": "python",
   "name": "python3"
  },
  "language_info": {
   "codemirror_mode": {
    "name": "ipython",
    "version": 2
   },
   "file_extension": ".py",
   "mimetype": "text/x-python",
   "name": "python",
   "nbconvert_exporter": "python",
   "pygments_lexer": "ipython2",
   "version": "2.7.6"
  }
 },
 "nbformat": 4,
 "nbformat_minor": 0
}